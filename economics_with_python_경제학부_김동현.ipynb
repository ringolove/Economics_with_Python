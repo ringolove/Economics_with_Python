{
  "nbformat": 4,
  "nbformat_minor": 0,
  "metadata": {
    "colab": {
      "name": "economics with python 경제학부 김동현",
      "provenance": [],
      "collapsed_sections": [],
      "authorship_tag": "ABX9TyOnO5q2a8oO8aGh9RblUvjq",
      "include_colab_link": true
    },
    "kernelspec": {
      "display_name": "Python 3",
      "name": "python3"
    },
    "language_info": {
      "name": "python"
    }
  },
  "cells": [
    {
      "cell_type": "markdown",
      "metadata": {
        "id": "view-in-github",
        "colab_type": "text"
      },
      "source": [
        "<a href=\"https://colab.research.google.com/github/ringolove/Economics_with_Python/blob/main/economics_with_python_%EA%B2%BD%EC%A0%9C%ED%95%99%EB%B6%80_%EA%B9%80%EB%8F%99%ED%98%84.ipynb\" target=\"_parent\"><img src=\"https://colab.research.google.com/assets/colab-badge.svg\" alt=\"Open In Colab\"/></a>"
      ]
    },
    {
      "cell_type": "markdown",
      "metadata": {
        "id": "GM-0n0ZhGs_r"
      },
      "source": [
        "경제학부 2014048786 김동현\n",
        "\n",
        "* 코드 리뷰 및 도움 주신 분\n",
        " * 이숙번(에누마 코리아 백엔드 엔지니어, 디플러스 강사) https://kr.linkedin.com/in/%EC%88%99%EB%B2%88-%EC%9D%B4-19545a94\n",
        "* 참고 사이트 및 도서\n",
        " * 한국은행 경제통계시스템 https://ecos.bok.or.kr/\n",
        " * 데이터 사이언스 스쿨 https://datascienceschool.net/\n",
        " * 오픈튜토리얼스 https://www.opentutorials.org/\n",
        " * 대구 AI 허브 https://www.aifor.kr/\n",
        " * Principles of Economics, 9th Edition, N. Mankiw, 2021\n",
        "\n",
        "* 이 코드는 깃허브에서도 확인하실 수 있습니다.\n",
        " * https://github.com/ringolove/Economics_with_Python"
      ]
    },
    {
      "cell_type": "markdown",
      "metadata": {
        "id": "YyxH5NS3o5NJ"
      },
      "source": [
        "#1."
      ]
    },
    {
      "cell_type": "markdown",
      "metadata": {
        "id": "Bcwef-OMo7Ck"
      },
      "source": [
        "* 중심극한정리 시뮬레이션\n",
        "\n"
      ]
    },
    {
      "cell_type": "code",
      "metadata": {
        "colab": {
          "base_uri": "https://localhost:8080/"
        },
        "id": "ZSvzmHa-tIuP",
        "outputId": "845cf93e-7ae6-47bb-fdea-d239bd0d83a2"
      },
      "source": [
        "# 중심극한정리(Central Limit Theorem)\n",
        "# : 동일분포를 가지는 분포들의 평균은 그 개수가 많아지면 언제나 정규분포로 수렴한다.\n",
        "\n",
        "import scipy as sp\n",
        "import seaborn as sns\n",
        "import numpy as np\n",
        "import matplotlib.pylab as plt\n",
        "\n",
        "print('평균과 표준편차를 입력해주십시오.')\n",
        "mean = float(input('평균: '))\n",
        "s_dev = float(input('표준편차: '))\n",
        "print('\\n'+'입력받은 평균과 표준편차를 바탕으로 n개의 확률변수 값을 구합니다.')\n",
        "n = int(input('n : '))\n",
        "random_variable = [np.random.normal(loc=mean, scale=s_dev, size=n)] # 입력받은 평균과 분산 내의 임의 확률변수 n개 1추출\n",
        "random_variable"
      ],
      "execution_count": 136,
      "outputs": [
        {
          "name": "stdout",
          "output_type": "stream",
          "text": [
            "평균과 표준편차를 입력해주십시오.\n",
            "평균: 0.5\n",
            "표준편차: 0.3\n",
            "\n",
            "입력받은 평균과 표준편차를 바탕으로 n개의 확률변수 값을 구합니다.\n",
            "n : 10\n"
          ]
        },
        {
          "output_type": "execute_result",
          "data": {
            "text/plain": [
              "[array([0.11010003, 0.50519266, 0.81139357, 0.43008124, 0.64404398,\n",
              "        0.67841672, 0.68520049, 0.84336519, 0.32742773, 0.4231736 ])]"
            ]
          },
          "metadata": {},
          "execution_count": 136
        }
      ]
    },
    {
      "cell_type": "code",
      "metadata": {
        "colab": {
          "base_uri": "https://localhost:8080/",
          "height": 409
        },
        "id": "1LNE9ruQcNMm",
        "outputId": "268368c1-433e-4902-ac47-00f8e62d57f8"
      },
      "source": [
        "print('입력하신 크기에 따라 랜덤 샘플링을 실행하고 그 분포를 표시합니다.'+'\\n'\n",
        "     +'(권장 크기: 1,000~1,000,000)')\n",
        "sample = int(input('샘플 크기: '))\n",
        "rv_mlist = [np.mean(np.random.normal(loc=mean, scale=s_dev, size=n)) for i in range(sample)] # 입력받은 샘플 크기만큼 확률변수를 샘플링하고 그 평균을 리스트로 저장\n",
        "sns.set(color_codes=True)\n",
        "bar = plt.subplots(figsize=(10,5))\n",
        "bar = sns.histplot(rv_mlist, color='#FC7F77', bins=100) # Y축: count\n",
        "bar.set_title('sample size = {0}'.format(sample), size=15)"
      ],
      "execution_count": 137,
      "outputs": [
        {
          "name": "stdout",
          "output_type": "stream",
          "text": [
            "입력하신 크기에 따라 랜덤 샘플링을 실행하고 그 분포를 표시합니다.\n",
            "(권장 크기: 1,000~1,000,000)\n",
            "샘플 크기: 10000\n"
          ]
        },
        {
          "output_type": "execute_result",
          "data": {
            "text/plain": [
              "Text(0.5, 1.0, 'sample size = 10000')"
            ]
          },
          "metadata": {},
          "execution_count": 137
        },
        {
          "output_type": "display_data",
          "data": {
            "image/png": "[encoded data removed]",
            "text/plain": [
              "<Figure size 720x360 with 1 Axes>"
            ]
          },
          "metadata": {}
        }
      ]
    },
    {
      "cell_type": "code",
      "metadata": {
        "colab": {
          "base_uri": "https://localhost:8080/",
          "height": 375
        },
        "id": "MIpM_aQtfsBy",
        "outputId": "5c1d5192-51a8-40a5-af8d-8c5fcac0c5ad"
      },
      "source": [
        "print('최대로 샘플링한 분포의 그래프와 정규분포 그래프를 함께 표시합니다.')\n",
        "rv_mlist = [np.mean(np.random.normal(loc=mean, scale=s_dev, size=n)) for i in range(int(1e6))] # 1e6 = 1,000,000(최댓값)/1e6 이상의 값은 오류가 발생하므로 주의\n",
        "sns.set(color_codes=True)\n",
        "bar = plt.subplots(figsize=(10,5))\n",
        "bar = sns.histplot(rv_mlist, color='#FC7F77', bins=100, kde=True, stat=\"density\")\n",
        "bar.set_title('Central Limit Theorem', size=15)"
      ],
      "execution_count": 138,
      "outputs": [
        {
          "output_type": "stream",
          "name": "stdout",
          "text": [
            "최대로 샘플링한 분포의 그래프와 정규분포 그래프를 함께 표시합니다.\n"
          ]
        },
        {
          "output_type": "execute_result",
          "data": {
            "text/plain": [
              "Text(0.5, 1.0, 'Central Limit Theorem')"
            ]
          },
          "metadata": {},
          "execution_count": 138
        },
        {
          "output_type": "display_data",
          "data": {
            "image/png": "[encoded data removed]",
            "text/plain": [
              "<Figure size 720x360 with 1 Axes>"
            ]
          },
          "metadata": {}
        }
      ]
    },
    {
      "cell_type": "markdown",
      "metadata": {
        "id": "Es33Nht30jxL"
      },
      "source": [
        "#2."
      ]
    },
    {
      "cell_type": "markdown",
      "metadata": {
        "id": "dCeJX3fj0l0G"
      },
      "source": [
        "* 머신러닝을 활용한 GDP 예측"
      ]
    },
    {
      "cell_type": "code",
      "metadata": {
        "id": "3FVPWG8b0lVz"
      },
      "source": [
        "import tensorflow as tf\n",
        "import pandas as pd\n",
        "import scipy as sp\n",
        "import seaborn as sns\n",
        "import numpy as np\n",
        "import matplotlib.pylab as plt\n",
        "\n",
        "# 데이터 준비\n",
        "# 출처: 한국은행 경제통계시스템 - 복수통계검색 - 10.3.1.1. 국내총생산과 지출(명목, 연간) - csv 파일로 저장 후 전처리\n",
        "# csv 파일: Comma Seperated Value, ',' 쉼표(comma)로 분리된 텍스트 파일\n",
        "train = pd.read_csv(\"./train.csv\", index_col=0, parse_dates=True) # 1970~2010년 동안의 경제지표 및 국내총생산 데이터\n",
        "test = pd.read_csv(\"./test.csv\", index_col=0, parse_dates=True) # 2011~2020년 동안의 경제지표 및 국내총생산 데이터"
      ],
      "execution_count": 143,
      "outputs": []
    },
    {
      "cell_type": "code",
      "metadata": {
        "colab": {
          "base_uri": "https://localhost:8080/",
          "height": 237
        },
        "id": "ihxS0Q5gZfX7",
        "outputId": "58fb9af8-fb83-4108-e60a-26cc3c08dd1e"
      },
      "source": [
        "# 전체 단위: 조원\n",
        "# C - 민간최종소비지출\n",
        "# I - 총고정자본형성\n",
        "# G - 정부최종소비지출\n",
        "# EX, IM - 재화와서비스의수출, (공제)재화와서비스의수입\n",
        "# GDP - 국민총소득\n",
        "\n",
        "# train에 담긴 데이터 중 상위 5개 행 출력\n",
        "train.head()"
      ],
      "execution_count": 144,
      "outputs": [
        {
          "output_type": "execute_result",
          "data": {
            "text/html": [
              "<div>\n",
              "<style scoped>\n",
              "    .dataframe tbody tr th:only-of-type {\n",
              "        vertical-align: middle;\n",
              "    }\n",
              "\n",
              "    .dataframe tbody tr th {\n",
              "        vertical-align: top;\n",
              "    }\n",
              "\n",
              "    .dataframe thead th {\n",
              "        text-align: right;\n",
              "    }\n",
              "</style>\n",
              "<table border=\"1\" class=\"dataframe\">\n",
              "  <thead>\n",
              "    <tr style=\"text-align: right;\">\n",
              "      <th></th>\n",
              "      <th>C</th>\n",
              "      <th>I</th>\n",
              "      <th>G</th>\n",
              "      <th>EX</th>\n",
              "      <th>IM</th>\n",
              "      <th>GDP</th>\n",
              "    </tr>\n",
              "    <tr>\n",
              "      <th>year</th>\n",
              "      <th></th>\n",
              "      <th></th>\n",
              "      <th></th>\n",
              "      <th></th>\n",
              "      <th></th>\n",
              "      <th></th>\n",
              "    </tr>\n",
              "  </thead>\n",
              "  <tbody>\n",
              "    <tr>\n",
              "      <th>1970-01-01</th>\n",
              "      <td>2.1</td>\n",
              "      <td>0.7</td>\n",
              "      <td>0.3</td>\n",
              "      <td>0.3</td>\n",
              "      <td>0.6</td>\n",
              "      <td>2.8</td>\n",
              "    </tr>\n",
              "    <tr>\n",
              "      <th>1971-01-01</th>\n",
              "      <td>2.6</td>\n",
              "      <td>0.8</td>\n",
              "      <td>0.4</td>\n",
              "      <td>0.4</td>\n",
              "      <td>0.8</td>\n",
              "      <td>3.5</td>\n",
              "    </tr>\n",
              "    <tr>\n",
              "      <th>1972-01-01</th>\n",
              "      <td>3.1</td>\n",
              "      <td>0.9</td>\n",
              "      <td>0.4</td>\n",
              "      <td>0.7</td>\n",
              "      <td>0.9</td>\n",
              "      <td>4.3</td>\n",
              "    </tr>\n",
              "    <tr>\n",
              "      <th>1973-01-01</th>\n",
              "      <td>3.8</td>\n",
              "      <td>1.3</td>\n",
              "      <td>0.5</td>\n",
              "      <td>1.3</td>\n",
              "      <td>1.5</td>\n",
              "      <td>5.5</td>\n",
              "    </tr>\n",
              "    <tr>\n",
              "      <th>1974-01-01</th>\n",
              "      <td>5.4</td>\n",
              "      <td>2.2</td>\n",
              "      <td>0.8</td>\n",
              "      <td>1.8</td>\n",
              "      <td>2.6</td>\n",
              "      <td>7.9</td>\n",
              "    </tr>\n",
              "  </tbody>\n",
              "</table>\n",
              "</div>"
            ],
            "text/plain": [
              "              C    I    G   EX   IM  GDP\n",
              "year                                    \n",
              "1970-01-01  2.1  0.7  0.3  0.3  0.6  2.8\n",
              "1971-01-01  2.6  0.8  0.4  0.4  0.8  3.5\n",
              "1972-01-01  3.1  0.9  0.4  0.7  0.9  4.3\n",
              "1973-01-01  3.8  1.3  0.5  1.3  1.5  5.5\n",
              "1974-01-01  5.4  2.2  0.8  1.8  2.6  7.9"
            ]
          },
          "metadata": {},
          "execution_count": 144
        }
      ]
    },
    {
      "cell_type": "code",
      "metadata": {
        "colab": {
          "base_uri": "https://localhost:8080/"
        },
        "id": "5s3M15fRaHbT",
        "outputId": "b794c102-819f-4601-92f0-c7ec7ed555d1"
      },
      "source": [
        "# 데이터프레임 train의 행렬 크기, 컬럼명, 컬럼을 구성하는 값의 자료형 확인\n",
        "train.info()"
      ],
      "execution_count": 135,
      "outputs": [
        {
          "output_type": "stream",
          "name": "stdout",
          "text": [
            "<class 'pandas.core.frame.DataFrame'>\n",
            "DatetimeIndex: 41 entries, 1970-01-01 to 2010-01-01\n",
            "Data columns (total 6 columns):\n",
            " #   Column  Non-Null Count  Dtype  \n",
            "---  ------  --------------  -----  \n",
            " 0   C       41 non-null     float64\n",
            " 1   I       41 non-null     float64\n",
            " 2   G       41 non-null     float64\n",
            " 3   EX      41 non-null     float64\n",
            " 4   IM      41 non-null     float64\n",
            " 5   GDP     41 non-null     float64\n",
            "dtypes: float64(6)\n",
            "memory usage: 2.2 KB\n"
          ]
        }
      ]
    },
    {
      "cell_type": "code",
      "metadata": {
        "colab": {
          "base_uri": "https://localhost:8080/",
          "height": 300
        },
        "id": "zFx89NOZdWCB",
        "outputId": "0cb3b907-3227-4b29-e08e-6e8bb027f0a4"
      },
      "source": [
        "# 컬럼별 요약 통계량 확인(개수, 평균, 표준편차, 최댓값, 최솟값, 사분위수)\n",
        "train.describe()"
      ],
      "execution_count": 139,
      "outputs": [
        {
          "output_type": "execute_result",
          "data": {
            "text/html": [
              "<div>\n",
              "<style scoped>\n",
              "    .dataframe tbody tr th:only-of-type {\n",
              "        vertical-align: middle;\n",
              "    }\n",
              "\n",
              "    .dataframe tbody tr th {\n",
              "        vertical-align: top;\n",
              "    }\n",
              "\n",
              "    .dataframe thead th {\n",
              "        text-align: right;\n",
              "    }\n",
              "</style>\n",
              "<table border=\"1\" class=\"dataframe\">\n",
              "  <thead>\n",
              "    <tr style=\"text-align: right;\">\n",
              "      <th></th>\n",
              "      <th>C</th>\n",
              "      <th>I</th>\n",
              "      <th>G</th>\n",
              "      <th>EX</th>\n",
              "      <th>IM</th>\n",
              "      <th>GDP</th>\n",
              "    </tr>\n",
              "  </thead>\n",
              "  <tbody>\n",
              "    <tr>\n",
              "      <th>count</th>\n",
              "      <td>41.000000</td>\n",
              "      <td>41.000000</td>\n",
              "      <td>41.000000</td>\n",
              "      <td>41.000000</td>\n",
              "      <td>41.000000</td>\n",
              "      <td>41.000000</td>\n",
              "    </tr>\n",
              "    <tr>\n",
              "      <th>mean</th>\n",
              "      <td>201.565854</td>\n",
              "      <td>121.607317</td>\n",
              "      <td>47.078049</td>\n",
              "      <td>134.973171</td>\n",
              "      <td>128.604878</td>\n",
              "      <td>380.804878</td>\n",
              "    </tr>\n",
              "    <tr>\n",
              "      <th>std</th>\n",
              "      <td>212.451488</td>\n",
              "      <td>124.979143</td>\n",
              "      <td>55.139407</td>\n",
              "      <td>169.546612</td>\n",
              "      <td>160.519217</td>\n",
              "      <td>405.557305</td>\n",
              "    </tr>\n",
              "    <tr>\n",
              "      <th>min</th>\n",
              "      <td>2.100000</td>\n",
              "      <td>0.700000</td>\n",
              "      <td>0.300000</td>\n",
              "      <td>0.300000</td>\n",
              "      <td>0.600000</td>\n",
              "      <td>2.800000</td>\n",
              "    </tr>\n",
              "    <tr>\n",
              "      <th>25%</th>\n",
              "      <td>24.900000</td>\n",
              "      <td>13.100000</td>\n",
              "      <td>4.700000</td>\n",
              "      <td>11.300000</td>\n",
              "      <td>14.700000</td>\n",
              "      <td>39.400000</td>\n",
              "    </tr>\n",
              "    <tr>\n",
              "      <th>50%</th>\n",
              "      <td>100.700000</td>\n",
              "      <td>74.900000</td>\n",
              "      <td>22.000000</td>\n",
              "      <td>50.100000</td>\n",
              "      <td>51.700000</td>\n",
              "      <td>200.400000</td>\n",
              "    </tr>\n",
              "    <tr>\n",
              "      <th>75%</th>\n",
              "      <td>355.100000</td>\n",
              "      <td>206.900000</td>\n",
              "      <td>71.000000</td>\n",
              "      <td>221.200000</td>\n",
              "      <td>209.500000</td>\n",
              "      <td>647.300000</td>\n",
              "    </tr>\n",
              "    <tr>\n",
              "      <th>max</th>\n",
              "      <td>667.100000</td>\n",
              "      <td>399.800000</td>\n",
              "      <td>187.900000</td>\n",
              "      <td>623.000000</td>\n",
              "      <td>585.900000</td>\n",
              "      <td>1324.600000</td>\n",
              "    </tr>\n",
              "  </tbody>\n",
              "</table>\n",
              "</div>"
            ],
            "text/plain": [
              "                C           I           G          EX          IM          GDP\n",
              "count   41.000000   41.000000   41.000000   41.000000   41.000000    41.000000\n",
              "mean   201.565854  121.607317   47.078049  134.973171  128.604878   380.804878\n",
              "std    212.451488  124.979143   55.139407  169.546612  160.519217   405.557305\n",
              "min      2.100000    0.700000    0.300000    0.300000    0.600000     2.800000\n",
              "25%     24.900000   13.100000    4.700000   11.300000   14.700000    39.400000\n",
              "50%    100.700000   74.900000   22.000000   50.100000   51.700000   200.400000\n",
              "75%    355.100000  206.900000   71.000000  221.200000  209.500000   647.300000\n",
              "max    667.100000  399.800000  187.900000  623.000000  585.900000  1324.600000"
            ]
          },
          "metadata": {},
          "execution_count": 139
        }
      ]
    },
    {
      "cell_type": "code",
      "metadata": {
        "colab": {
          "base_uri": "https://localhost:8080/",
          "height": 303
        },
        "id": "p-jI5umKdda2",
        "outputId": "fc4c0193-bf2b-4f18-8edd-6fc5a9e083a8"
      },
      "source": [
        "# 데이터를 그래프 평면상에 표시\n",
        "train.plot()"
      ],
      "execution_count": 140,
      "outputs": [
        {
          "output_type": "execute_result",
          "data": {
            "text/plain": [
              "<matplotlib.axes._subplots.AxesSubplot at 0x7ff6b0d176d0>"
            ]
          },
          "metadata": {},
          "execution_count": 140
        },
        {
          "output_type": "display_data",
          "data": {
            "image/png": "[encoded data removed]",
            "text/plain": [
              "<Figure size 432x288 with 1 Axes>"
            ]
          },
          "metadata": {}
        }
      ]
    },
    {
      "cell_type": "code",
      "metadata": {
        "colab": {
          "base_uri": "https://localhost:8080/",
          "height": 255
        },
        "id": "irK4nbdx6zko",
        "outputId": "ef15111f-f022-4ba8-972f-8ec8866472d3"
      },
      "source": [
        "# 각 경제지표를 독립변수, 종속변수로 나누기\n",
        "x_gdp = train.drop(['GDP'], axis=1) # C, I, G, EX, IM - 독립변수\n",
        "y_gdp = train[['GDP']] # GDP - 종속변수\n",
        "print(x_gdp.shape, y_gdp.shape) # 각각 41행 5열, 41행 1열로 저장된 독립변수와 종속변수\n",
        "x_gdp.head()"
      ],
      "execution_count": 142,
      "outputs": [
        {
          "output_type": "stream",
          "name": "stdout",
          "text": [
            "(41, 5) (41, 1)\n"
          ]
        },
        {
          "output_type": "execute_result",
          "data": {
            "text/html": [
              "<div>\n",
              "<style scoped>\n",
              "    .dataframe tbody tr th:only-of-type {\n",
              "        vertical-align: middle;\n",
              "    }\n",
              "\n",
              "    .dataframe tbody tr th {\n",
              "        vertical-align: top;\n",
              "    }\n",
              "\n",
              "    .dataframe thead th {\n",
              "        text-align: right;\n",
              "    }\n",
              "</style>\n",
              "<table border=\"1\" class=\"dataframe\">\n",
              "  <thead>\n",
              "    <tr style=\"text-align: right;\">\n",
              "      <th></th>\n",
              "      <th>C</th>\n",
              "      <th>I</th>\n",
              "      <th>G</th>\n",
              "      <th>EX</th>\n",
              "      <th>IM</th>\n",
              "    </tr>\n",
              "    <tr>\n",
              "      <th>year</th>\n",
              "      <th></th>\n",
              "      <th></th>\n",
              "      <th></th>\n",
              "      <th></th>\n",
              "      <th></th>\n",
              "    </tr>\n",
              "  </thead>\n",
              "  <tbody>\n",
              "    <tr>\n",
              "      <th>1970-01-01</th>\n",
              "      <td>2.1</td>\n",
              "      <td>0.7</td>\n",
              "      <td>0.3</td>\n",
              "      <td>0.3</td>\n",
              "      <td>0.6</td>\n",
              "    </tr>\n",
              "    <tr>\n",
              "      <th>1971-01-01</th>\n",
              "      <td>2.6</td>\n",
              "      <td>0.8</td>\n",
              "      <td>0.4</td>\n",
              "      <td>0.4</td>\n",
              "      <td>0.8</td>\n",
              "    </tr>\n",
              "    <tr>\n",
              "      <th>1972-01-01</th>\n",
              "      <td>3.1</td>\n",
              "      <td>0.9</td>\n",
              "      <td>0.4</td>\n",
              "      <td>0.7</td>\n",
              "      <td>0.9</td>\n",
              "    </tr>\n",
              "    <tr>\n",
              "      <th>1973-01-01</th>\n",
              "      <td>3.8</td>\n",
              "      <td>1.3</td>\n",
              "      <td>0.5</td>\n",
              "      <td>1.3</td>\n",
              "      <td>1.5</td>\n",
              "    </tr>\n",
              "    <tr>\n",
              "      <th>1974-01-01</th>\n",
              "      <td>5.4</td>\n",
              "      <td>2.2</td>\n",
              "      <td>0.8</td>\n",
              "      <td>1.8</td>\n",
              "      <td>2.6</td>\n",
              "    </tr>\n",
              "  </tbody>\n",
              "</table>\n",
              "</div>"
            ],
            "text/plain": [
              "              C    I    G   EX   IM\n",
              "year                               \n",
              "1970-01-01  2.1  0.7  0.3  0.3  0.6\n",
              "1971-01-01  2.6  0.8  0.4  0.4  0.8\n",
              "1972-01-01  3.1  0.9  0.4  0.7  0.9\n",
              "1973-01-01  3.8  1.3  0.5  1.3  1.5\n",
              "1974-01-01  5.4  2.2  0.8  1.8  2.6"
            ]
          },
          "metadata": {},
          "execution_count": 142
        }
      ]
    },
    {
      "cell_type": "code",
      "metadata": {
        "colab": {
          "base_uri": "https://localhost:8080/"
        },
        "id": "cZy7vCGZKwkq",
        "outputId": "49f105e6-63bc-424d-ce1d-6034aa9f6a7f"
      },
      "source": [
        "# 모델 생성\n",
        "# 복잡한 구조의 모델을 자유롭게 구성하기 위해 Funtional 방식으로 모델 설계\n",
        "# input과 output 사이에 히든레이어를 추가해 신경망을 더 깊게 만들어 정확한 결과값을 예측\n",
        "\n",
        "X = tf.keras.layers.Input(shape=[5]) # 독립변수 41행 '5열' -> 입력값 5개\n",
        "H = tf.keras.layers.Dense(10, activation='swish')(X) # 5개의 입력을 받고 10개의 출력을 만들어 output으로 전달\n",
        "H = tf.keras.layers.Dense(10, activation='swish')(H)\n",
        "Y = tf.keras.layers.Dense(1)(H)\n",
        "model = tf.keras.Model(X, Y)\n",
        "model.compile(loss='mse') # loss: 모델이 얼마나 정답에 가까이 맞추고 있는지 평가하는 지표\n",
        "# mse: mean squred error, 에러의 제곱을 평균한 것\n",
        "\n",
        "model.summary()"
      ],
      "execution_count": 146,
      "outputs": [
        {
          "output_type": "stream",
          "name": "stdout",
          "text": [
            "Model: \"model_11\"\n",
            "_________________________________________________________________\n",
            " Layer (type)                Output Shape              Param #   \n",
            "=================================================================\n",
            " input_12 (InputLayer)       [(None, 5)]               0         \n",
            "                                                                 \n",
            " dense_35 (Dense)            (None, 10)                60        \n",
            "                                                                 \n",
            " dense_36 (Dense)            (None, 10)                110       \n",
            "                                                                 \n",
            " dense_37 (Dense)            (None, 1)                 11        \n",
            "                                                                 \n",
            "=================================================================\n",
            "Total params: 181\n",
            "Trainable params: 181\n",
            "Non-trainable params: 0\n",
            "_________________________________________________________________\n"
          ]
        }
      ]
    },
    {
      "cell_type": "code",
      "metadata": {
        "id": "6AFMDdYQv4AO"
      },
      "source": [
        "# Early Stopping: loss값이 줄어들지 않는 오버피팅이 발생하면 멈추고 멈추기 전 최적의 모델을 적용\n",
        "early = tf.keras.callbacks.EarlyStopping(\n",
        "    monitor='loss',\n",
        "    min_delta = 0, # 개선되고 있다고 판단하기 위한 최소 변화량\n",
        "    patience = 5, # 개선이 없는 상태를 얼마나 기다릴지 표기\n",
        "    restore_best_weights = True # 멈추기 전 최적의 결과값을 복구\n",
        ")"
      ],
      "execution_count": 147,
      "outputs": []
    },
    {
      "cell_type": "code",
      "metadata": {
        "colab": {
          "base_uri": "https://localhost:8080/"
        },
        "id": "kKqajbl7PdO8",
        "outputId": "c9e98584-5d55-4e8c-c38f-45750b7f7e7b"
      },
      "source": [
        "# 모델에 데이터 학습\n",
        "# 약 3천번 기준 loss값 47.2844까지 도달\n",
        "model.fit(x_gdp, y_gdp, epochs=30, callbacks=[early])"
      ],
      "execution_count": 164,
      "outputs": [
        {
          "output_type": "stream",
          "name": "stdout",
          "text": [
            "Epoch 1/30\n",
            "2/2 [==============================] - 0s 6ms/step - loss: 50.4375\n",
            "Epoch 2/30\n",
            "2/2 [==============================] - 0s 6ms/step - loss: 47.1783\n",
            "Epoch 3/30\n",
            "2/2 [==============================] - 0s 5ms/step - loss: 46.9639\n",
            "Epoch 4/30\n",
            "2/2 [==============================] - 0s 6ms/step - loss: 47.3588\n",
            "Epoch 5/30\n",
            "2/2 [==============================] - 0s 5ms/step - loss: 47.3441\n",
            "Epoch 6/30\n",
            "2/2 [==============================] - 0s 5ms/step - loss: 48.5253\n",
            "Epoch 7/30\n",
            "2/2 [==============================] - 0s 5ms/step - loss: 96.0144\n",
            "Epoch 8/30\n",
            "2/2 [==============================] - 0s 7ms/step - loss: 47.2844\n"
          ]
        },
        {
          "output_type": "execute_result",
          "data": {
            "text/plain": [
              "<keras.callbacks.History at 0x7ff6afadb710>"
            ]
          },
          "metadata": {},
          "execution_count": 164
        }
      ]
    },
    {
      "cell_type": "code",
      "metadata": {
        "id": "MNpWtxGKPmAM"
      },
      "source": [
        "# 모델 비교 및 분석\n",
        "# 예측을 위해 train, test 데이터의 독립변수, 종속변수를 각각 분리해 저장\n",
        "x_train, y_train = train[['C', 'I', 'G', 'EX', 'IM']], train[['GDP']]\n",
        "x_test, y_test = test[['C', 'I', 'G', 'EX', 'IM']], test[['GDP']]\n",
        "\n",
        "# pred1 = train 데이터(1970~2010의 경제지표)를 입력해 위에서 만든 모델로 GDP 예측\n",
        "# pred1 = test 데이터(2011~2020의 경제지표)를 입력해 위에서 만든 모델로 GDP 예측\n",
        "pred1 = model.predict(x_train)\n",
        "pred2 = model.predict(x_test)"
      ],
      "execution_count": 169,
      "outputs": []
    },
    {
      "cell_type": "code",
      "metadata": {
        "colab": {
          "base_uri": "https://localhost:8080/",
          "height": 394
        },
        "id": "uz48acBBDI8i",
        "outputId": "a67184a7-662f-4d20-cee3-36663d11fc0a"
      },
      "source": [
        "# train 데이터로 예측한 GDP와 실제 GDP를 나란히 배치하여 비교\n",
        "df1 = pd.DataFrame({'train_pred': pred1.reshape(-1), 'train_real': y_train.iloc[:,0]})\n",
        "df1.head(10)"
      ],
      "execution_count": 168,
      "outputs": [
        {
          "output_type": "execute_result",
          "data": {
            "text/html": [
              "<div>\n",
              "<style scoped>\n",
              "    .dataframe tbody tr th:only-of-type {\n",
              "        vertical-align: middle;\n",
              "    }\n",
              "\n",
              "    .dataframe tbody tr th {\n",
              "        vertical-align: top;\n",
              "    }\n",
              "\n",
              "    .dataframe thead th {\n",
              "        text-align: right;\n",
              "    }\n",
              "</style>\n",
              "<table border=\"1\" class=\"dataframe\">\n",
              "  <thead>\n",
              "    <tr style=\"text-align: right;\">\n",
              "      <th></th>\n",
              "      <th>train_pred</th>\n",
              "      <th>train_real</th>\n",
              "    </tr>\n",
              "    <tr>\n",
              "      <th>year</th>\n",
              "      <th></th>\n",
              "      <th></th>\n",
              "    </tr>\n",
              "  </thead>\n",
              "  <tbody>\n",
              "    <tr>\n",
              "      <th>1970-01-01</th>\n",
              "      <td>2.868883</td>\n",
              "      <td>2.8</td>\n",
              "    </tr>\n",
              "    <tr>\n",
              "      <th>1971-01-01</th>\n",
              "      <td>3.518034</td>\n",
              "      <td>3.5</td>\n",
              "    </tr>\n",
              "    <tr>\n",
              "      <th>1972-01-01</th>\n",
              "      <td>4.235599</td>\n",
              "      <td>4.3</td>\n",
              "    </tr>\n",
              "    <tr>\n",
              "      <th>1973-01-01</th>\n",
              "      <td>5.706863</td>\n",
              "      <td>5.5</td>\n",
              "    </tr>\n",
              "    <tr>\n",
              "      <th>1974-01-01</th>\n",
              "      <td>8.663687</td>\n",
              "      <td>7.9</td>\n",
              "    </tr>\n",
              "    <tr>\n",
              "      <th>1975-01-01</th>\n",
              "      <td>11.667825</td>\n",
              "      <td>10.5</td>\n",
              "    </tr>\n",
              "    <tr>\n",
              "      <th>1976-01-01</th>\n",
              "      <td>15.141323</td>\n",
              "      <td>14.4</td>\n",
              "    </tr>\n",
              "    <tr>\n",
              "      <th>1977-01-01</th>\n",
              "      <td>19.418701</td>\n",
              "      <td>18.6</td>\n",
              "    </tr>\n",
              "    <tr>\n",
              "      <th>1978-01-01</th>\n",
              "      <td>26.652176</td>\n",
              "      <td>25.2</td>\n",
              "    </tr>\n",
              "    <tr>\n",
              "      <th>1979-01-01</th>\n",
              "      <td>34.701752</td>\n",
              "      <td>32.3</td>\n",
              "    </tr>\n",
              "  </tbody>\n",
              "</table>\n",
              "</div>"
            ],
            "text/plain": [
              "            train_pred  train_real\n",
              "year                              \n",
              "1970-01-01    2.868883         2.8\n",
              "1971-01-01    3.518034         3.5\n",
              "1972-01-01    4.235599         4.3\n",
              "1973-01-01    5.706863         5.5\n",
              "1974-01-01    8.663687         7.9\n",
              "1975-01-01   11.667825        10.5\n",
              "1976-01-01   15.141323        14.4\n",
              "1977-01-01   19.418701        18.6\n",
              "1978-01-01   26.652176        25.2\n",
              "1979-01-01   34.701752        32.3"
            ]
          },
          "metadata": {},
          "execution_count": 168
        }
      ]
    },
    {
      "cell_type": "code",
      "metadata": {
        "colab": {
          "base_uri": "https://localhost:8080/",
          "height": 394
        },
        "id": "EkRdFRVJCJyg",
        "outputId": "4d37c797-9885-4562-cdd2-81c85b8ba9a8"
      },
      "source": [
        "# test 데이터로 예측한 GDP와 실제 GDP를 나란히 배치하여 비교\n",
        "# df1과 df2의 차이: test 데이터는 모델 구조를 만들때 포함되지 않았기 때문에\n",
        "# 완성된 모델에게는 입력된 적 없는 새로운 데이터로 인식됨\n",
        "df2 = pd.DataFrame({'test_pred': pred2.reshape(-1), 'test_real': y_test.iloc[:,0]})\n",
        "df2"
      ],
      "execution_count": 170,
      "outputs": [
        {
          "output_type": "execute_result",
          "data": {
            "text/html": [
              "<div>\n",
              "<style scoped>\n",
              "    .dataframe tbody tr th:only-of-type {\n",
              "        vertical-align: middle;\n",
              "    }\n",
              "\n",
              "    .dataframe tbody tr th {\n",
              "        vertical-align: top;\n",
              "    }\n",
              "\n",
              "    .dataframe thead th {\n",
              "        text-align: right;\n",
              "    }\n",
              "</style>\n",
              "<table border=\"1\" class=\"dataframe\">\n",
              "  <thead>\n",
              "    <tr style=\"text-align: right;\">\n",
              "      <th></th>\n",
              "      <th>test_pred</th>\n",
              "      <th>test_real</th>\n",
              "    </tr>\n",
              "    <tr>\n",
              "      <th>year</th>\n",
              "      <th></th>\n",
              "      <th></th>\n",
              "    </tr>\n",
              "  </thead>\n",
              "  <tbody>\n",
              "    <tr>\n",
              "      <th>2011-01-01</th>\n",
              "      <td>1402.435059</td>\n",
              "      <td>1397.5</td>\n",
              "    </tr>\n",
              "    <tr>\n",
              "      <th>2012-01-01</th>\n",
              "      <td>1441.846802</td>\n",
              "      <td>1455.2</td>\n",
              "    </tr>\n",
              "    <tr>\n",
              "      <th>2013-01-01</th>\n",
              "      <td>1464.162964</td>\n",
              "      <td>1510.4</td>\n",
              "    </tr>\n",
              "    <tr>\n",
              "      <th>2014-01-01</th>\n",
              "      <td>1499.183105</td>\n",
              "      <td>1570.5</td>\n",
              "    </tr>\n",
              "    <tr>\n",
              "      <th>2015-01-01</th>\n",
              "      <td>1561.199585</td>\n",
              "      <td>1663.2</td>\n",
              "    </tr>\n",
              "    <tr>\n",
              "      <th>2016-01-01</th>\n",
              "      <td>1635.736938</td>\n",
              "      <td>1747.1</td>\n",
              "    </tr>\n",
              "    <tr>\n",
              "      <th>2017-01-01</th>\n",
              "      <td>1759.828369</td>\n",
              "      <td>1843.2</td>\n",
              "    </tr>\n",
              "    <tr>\n",
              "      <th>2018-01-01</th>\n",
              "      <td>1810.199219</td>\n",
              "      <td>1905.8</td>\n",
              "    </tr>\n",
              "    <tr>\n",
              "      <th>2019-01-01</th>\n",
              "      <td>1843.227295</td>\n",
              "      <td>1941.1</td>\n",
              "    </tr>\n",
              "    <tr>\n",
              "      <th>2020-01-01</th>\n",
              "      <td>1819.532104</td>\n",
              "      <td>1948.0</td>\n",
              "    </tr>\n",
              "  </tbody>\n",
              "</table>\n",
              "</div>"
            ],
            "text/plain": [
              "              test_pred  test_real\n",
              "year                              \n",
              "2011-01-01  1402.435059     1397.5\n",
              "2012-01-01  1441.846802     1455.2\n",
              "2013-01-01  1464.162964     1510.4\n",
              "2014-01-01  1499.183105     1570.5\n",
              "2015-01-01  1561.199585     1663.2\n",
              "2016-01-01  1635.736938     1747.1\n",
              "2017-01-01  1759.828369     1843.2\n",
              "2018-01-01  1810.199219     1905.8\n",
              "2019-01-01  1843.227295     1941.1\n",
              "2020-01-01  1819.532104     1948.0"
            ]
          },
          "metadata": {},
          "execution_count": 170
        }
      ]
    }
  ]
}