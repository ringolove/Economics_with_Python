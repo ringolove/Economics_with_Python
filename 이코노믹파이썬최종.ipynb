{
  "nbformat": 4,
  "nbformat_minor": 0,
  "metadata": {
    "colab": {
      "name": "이코노믹파이썬최종",
      "provenance": [],
      "collapsed_sections": [],
      "authorship_tag": "ABX9TyMFhYw/VFuVzMblaoMKTP/4",
      "include_colab_link": true
    },
    "kernelspec": {
      "display_name": "Python 3",
      "name": "python3"
    },
    "language_info": {
      "name": "python"
    }
  },
  "cells": [
    {
      "cell_type": "markdown",
      "metadata": {
        "id": "view-in-github",
        "colab_type": "text"
      },
      "source": [
        "<a href=\"https://colab.research.google.com/github/ringolove/Economics_with_Python/blob/main/%EC%9D%B4%EC%BD%94%EB%85%B8%EB%AF%B9%ED%8C%8C%EC%9D%B4%EC%8D%AC%EC%B5%9C%EC%A2%85.ipynb\" target=\"_parent\"><img src=\"https://colab.research.google.com/assets/colab-badge.svg\" alt=\"Open In Colab\"/></a>"
      ]
    },
    {
      "cell_type": "markdown",
      "metadata": {
        "id": "GM-0n0ZhGs_r"
      },
      "source": [
        "경제학부 2014048786 김동현\n",
        "\n",
        "* 코드 리뷰 및 도움 주신 분\n",
        " * 이숙번(에누마 코리아 백엔드 엔지니어, 디플러스 강사) https://kr.linkedin.com/in/%EC%88%99%EB%B2%88-%EC%9D%B4-19545a94\n",
        "* 참고 사이트 및 도서\n",
        " * 한국은행 https://ecos.bok.or.kr/\n",
        " * 데이터 사이언스 스쿨 https://datascienceschool.net/\n",
        " * 오픈튜토리얼스 https://www.opentutorials.org/\n",
        " * 대구 AI 허브 https://www.aifor.kr/\n",
        " * Principles of Economics, 9th Edition, N. Mankiw, 2021"
      ]
    },
    {
      "cell_type": "markdown",
      "metadata": {
        "id": "YyxH5NS3o5NJ"
      },
      "source": [
        "#1."
      ]
    },
    {
      "cell_type": "markdown",
      "metadata": {
        "id": "Bcwef-OMo7Ck"
      },
      "source": [
        "* 중심극한정리 시뮬레이션\n",
        "\n"
      ]
    },
    {
      "cell_type": "code",
      "metadata": {
        "colab": {
          "base_uri": "https://localhost:8080/"
        },
        "id": "ZSvzmHa-tIuP",
        "outputId": "b85a3e19-282c-4255-86c4-85aeb3d21924"
      },
      "source": [
        "# 중심극한정리(Central Limit Theorem)\n",
        "# : 동일분포를 가지는 분포들의 평균은 그 개수가 많아지면 언제나 정규분포로 수렴한다.\n",
        "\n",
        "import scipy as sp\n",
        "import seaborn as sns\n",
        "import numpy as np\n",
        "import matplotlib.pylab as plt\n",
        "\n",
        "print('평균과 표준편차를 입력해주십시오.')\n",
        "mean = int(input('평균: '))\n",
        "s_dev = int(input('분산: '))\n",
        "print('\\n'+'입력받은 평균과 표준편차를 바탕으로 n개의 확률변수 값을 구합니다.')\n",
        "n = int(input('n : '))\n",
        "random_variable = [np.random.normal(loc=mean, scale=s_dev, size=n)] # 입력받은 평균과 분산 내의 임의 확률변수 추출\n",
        "random_variable"
      ],
      "execution_count": null,
      "outputs": [
        {
          "name": "stdout",
          "output_type": "stream",
          "text": [
            "평균과 표준편차를 입력해주십시오.\n",
            "평균: 0\n",
            "분산: 1\n",
            "\n",
            "입력받은 평균과 표준편차를 바탕으로 n개의 확률변수 값을 구합니다.\n",
            "n : 10\n"
          ]
        },
        {
          "output_type": "execute_result",
          "data": {
            "text/plain": [
              "[array([ 0.95022752, -0.03690349,  1.13235042, -2.62630296,  0.22713516,\n",
              "        -0.03269349, -2.08242796,  0.36076081, -0.44038982,  1.009319  ])]"
            ]
          },
          "metadata": {},
          "execution_count": 95
        }
      ]
    },
    {
      "cell_type": "code",
      "metadata": {
        "colab": {
          "base_uri": "https://localhost:8080/",
          "height": 409
        },
        "id": "1LNE9ruQcNMm",
        "outputId": "ca74bbc3-4dbb-4ea7-9a7c-edcbf7d2c109"
      },
      "source": [
        "print('입력하신 크기에 따라 랜덤 샘플링을 실행하고 그 분포를 표시합니다.'+'\\n'\n",
        "     +'(권장 크기: 1,000~1,000,000)')\n",
        "sample = int(input('샘플 크기: '))\n",
        "rv_mlist = [np.mean(np.random.normal(loc=mean, scale=s_dev, size=n)) for i in range(sample)] # 입력받은 샘플 크기만큼 확률변수를 샘플링하고 그 평균을 리스트로 저장\n",
        "sns.set(color_codes=True)\n",
        "bar = plt.subplots(figsize=(10,5))\n",
        "bar = sns.histplot(rv_mlist, color='#FC7F77', bins=100) # Y축: count\n",
        "bar.set_title('sample size = {0}'.format(sample), size=15)"
      ],
      "execution_count": null,
      "outputs": [
        {
          "name": "stdout",
          "output_type": "stream",
          "text": [
            "입력하신 크기에 따라 랜덤 샘플링을 실행하고 그 분포를 표시합니다.\n",
            "(권장 크기: 1,000~1,000,000)\n",
            "샘플 크기: 100000\n"
          ]
        },
        {
          "output_type": "execute_result",
          "data": {
            "text/plain": [
              "Text(0.5, 1.0, 'sample size = 100000')"
            ]
          },
          "metadata": {},
          "execution_count": 97
        },
        {
          "output_type": "display_data",
          "data": {
            "image/png": "[encoded data removed]",
            "text/plain": [
              "<Figure size 720x360 with 1 Axes>"
            ]
          },
          "metadata": {}
        }
      ]
    },
    {
      "cell_type": "code",
      "metadata": {
        "colab": {
          "base_uri": "https://localhost:8080/",
          "height": 375
        },
        "id": "MIpM_aQtfsBy",
        "outputId": "e72abfb3-06e9-4533-afa5-a6df20cb481a"
      },
      "source": [
        "print('최대로 샘플링한 분포의 그래프와 정규분포 그래프를 함께 표시합니다.')\n",
        "rv_mlist = [np.mean(np.random.normal(loc=mean, scale=s_dev, size=n)) for i in range(int(1e6))] # 1e6 = 1,000,000/1e6 이상의 값은 오류가 발생하므로 주의\n",
        "sns.set(color_codes=True)\n",
        "bar = plt.subplots(figsize=(10,5))\n",
        "bar = sns.histplot(rv_mlist, color='#FC7F77', bins=100, kde=True, stat=\"density\")\n",
        "bar.set_title('Central Limit Theorem', size=15)"
      ],
      "execution_count": null,
      "outputs": [
        {
          "output_type": "stream",
          "name": "stdout",
          "text": [
            "최대로 샘플링한 분포의 그래프와 정규분포 그래프를 함께 표시합니다.\n"
          ]
        },
        {
          "output_type": "execute_result",
          "data": {
            "text/plain": [
              "Text(0.5, 1.0, 'Central Limit Theorem')"
            ]
          },
          "metadata": {},
          "execution_count": 98
        },
        {
          "output_type": "display_data",
          "data": {
            "image/png": "[encoded data removed]",
            "text/plain": [
              "<Figure size 720x360 with 1 Axes>"
            ]
          },
          "metadata": {}
        }
      ]
    },
    {
      "cell_type": "markdown",
      "metadata": {
        "id": "Es33Nht30jxL"
      },
      "source": [
        "#2."
      ]
    },
    {
      "cell_type": "markdown",
      "metadata": {
        "id": "dCeJX3fj0l0G"
      },
      "source": [
        "* 머신러닝을 활용한 GDP 예측"
      ]
    },
    {
      "cell_type": "code",
      "metadata": {
        "id": "3FVPWG8b0lVz"
      },
      "source": [
        "import tensorflow as tf\n",
        "import pandas as pd\n",
        "import scipy as sp\n",
        "import seaborn as sns\n",
        "import numpy as np\n",
        "import matplotlib.pylab as plt\n",
        "\n",
        "# 데이터 준비\n",
        "# 출처: 한국은행 경제통계시스템 - 복수통계검색 - 10.3.1.1.\n",
        "train = pd.read_csv(\"./train.csv\", index_col=0, parse_dates=True)\n",
        "test = pd.read_csv(\"./test.csv\", index_col=0, parse_dates=True)"
      ],
      "execution_count": 122,
      "outputs": []
    },
    {
      "cell_type": "code",
      "metadata": {
        "colab": {
          "base_uri": "https://localhost:8080/",
          "height": 237
        },
        "id": "ihxS0Q5gZfX7",
        "outputId": "f239f895-bb34-4816-9609-1d3f8683c530"
      },
      "source": [
        "# 전체 단위: 조원\n",
        "# C - 민간최종소비지출\n",
        "# I - 총고정자본형성\n",
        "# G - 정부최종소비지출\n",
        "# EX, IM - 재화와서비스의수출, (공제)재화와서비스의수입\n",
        "# GDP - 국민총소득\n",
        "train.head()"
      ],
      "execution_count": 121,
      "outputs": [
        {
          "output_type": "execute_result",
          "data": {
            "text/html": [
              "<div>\n",
              "<style scoped>\n",
              "    .dataframe tbody tr th:only-of-type {\n",
              "        vertical-align: middle;\n",
              "    }\n",
              "\n",
              "    .dataframe tbody tr th {\n",
              "        vertical-align: top;\n",
              "    }\n",
              "\n",
              "    .dataframe thead th {\n",
              "        text-align: right;\n",
              "    }\n",
              "</style>\n",
              "<table border=\"1\" class=\"dataframe\">\n",
              "  <thead>\n",
              "    <tr style=\"text-align: right;\">\n",
              "      <th></th>\n",
              "      <th>C</th>\n",
              "      <th>I</th>\n",
              "      <th>G</th>\n",
              "      <th>EX</th>\n",
              "      <th>IM</th>\n",
              "      <th>GDP</th>\n",
              "    </tr>\n",
              "    <tr>\n",
              "      <th>year</th>\n",
              "      <th></th>\n",
              "      <th></th>\n",
              "      <th></th>\n",
              "      <th></th>\n",
              "      <th></th>\n",
              "      <th></th>\n",
              "    </tr>\n",
              "  </thead>\n",
              "  <tbody>\n",
              "    <tr>\n",
              "      <th>1970-01-01</th>\n",
              "      <td>2.1</td>\n",
              "      <td>0.7</td>\n",
              "      <td>0.3</td>\n",
              "      <td>0.3</td>\n",
              "      <td>0.6</td>\n",
              "      <td>2.8</td>\n",
              "    </tr>\n",
              "    <tr>\n",
              "      <th>1971-01-01</th>\n",
              "      <td>2.6</td>\n",
              "      <td>0.8</td>\n",
              "      <td>0.4</td>\n",
              "      <td>0.4</td>\n",
              "      <td>0.8</td>\n",
              "      <td>3.5</td>\n",
              "    </tr>\n",
              "    <tr>\n",
              "      <th>1972-01-01</th>\n",
              "      <td>3.1</td>\n",
              "      <td>0.9</td>\n",
              "      <td>0.4</td>\n",
              "      <td>0.7</td>\n",
              "      <td>0.9</td>\n",
              "      <td>4.3</td>\n",
              "    </tr>\n",
              "    <tr>\n",
              "      <th>1973-01-01</th>\n",
              "      <td>3.8</td>\n",
              "      <td>1.3</td>\n",
              "      <td>0.5</td>\n",
              "      <td>1.3</td>\n",
              "      <td>1.5</td>\n",
              "      <td>5.5</td>\n",
              "    </tr>\n",
              "    <tr>\n",
              "      <th>1974-01-01</th>\n",
              "      <td>5.4</td>\n",
              "      <td>2.2</td>\n",
              "      <td>0.8</td>\n",
              "      <td>1.8</td>\n",
              "      <td>2.6</td>\n",
              "      <td>7.9</td>\n",
              "    </tr>\n",
              "  </tbody>\n",
              "</table>\n",
              "</div>"
            ],
            "text/plain": [
              "              C    I    G   EX   IM  GDP\n",
              "year                                    \n",
              "1970-01-01  2.1  0.7  0.3  0.3  0.6  2.8\n",
              "1971-01-01  2.6  0.8  0.4  0.4  0.8  3.5\n",
              "1972-01-01  3.1  0.9  0.4  0.7  0.9  4.3\n",
              "1973-01-01  3.8  1.3  0.5  1.3  1.5  5.5\n",
              "1974-01-01  5.4  2.2  0.8  1.8  2.6  7.9"
            ]
          },
          "metadata": {},
          "execution_count": 121
        }
      ]
    },
    {
      "cell_type": "code",
      "metadata": {
        "colab": {
          "base_uri": "https://localhost:8080/"
        },
        "id": "5s3M15fRaHbT",
        "outputId": "225cc47e-f298-4387-dcb1-2f322349407c"
      },
      "source": [
        "train.info()"
      ],
      "execution_count": null,
      "outputs": [
        {
          "output_type": "stream",
          "name": "stdout",
          "text": [
            "<class 'pandas.core.frame.DataFrame'>\n",
            "DatetimeIndex: 41 entries, 1970-01-01 to 2010-01-01\n",
            "Data columns (total 6 columns):\n",
            " #   Column  Non-Null Count  Dtype  \n",
            "---  ------  --------------  -----  \n",
            " 0   C       41 non-null     float64\n",
            " 1   I       41 non-null     float64\n",
            " 2   G       41 non-null     float64\n",
            " 3   EX      41 non-null     float64\n",
            " 4   IM      41 non-null     float64\n",
            " 5   GDP     41 non-null     float64\n",
            "dtypes: float64(6)\n",
            "memory usage: 2.2 KB\n"
          ]
        }
      ]
    },
    {
      "cell_type": "code",
      "metadata": {
        "colab": {
          "base_uri": "https://localhost:8080/",
          "height": 300
        },
        "id": "zFx89NOZdWCB",
        "outputId": "492baf93-376e-41e5-a6db-65fe311717d7"
      },
      "source": [
        "train.describe()"
      ],
      "execution_count": null,
      "outputs": [
        {
          "output_type": "execute_result",
          "data": {
            "text/html": [
              "<div>\n",
              "<style scoped>\n",
              "    .dataframe tbody tr th:only-of-type {\n",
              "        vertical-align: middle;\n",
              "    }\n",
              "\n",
              "    .dataframe tbody tr th {\n",
              "        vertical-align: top;\n",
              "    }\n",
              "\n",
              "    .dataframe thead th {\n",
              "        text-align: right;\n",
              "    }\n",
              "</style>\n",
              "<table border=\"1\" class=\"dataframe\">\n",
              "  <thead>\n",
              "    <tr style=\"text-align: right;\">\n",
              "      <th></th>\n",
              "      <th>C</th>\n",
              "      <th>I</th>\n",
              "      <th>G</th>\n",
              "      <th>EX</th>\n",
              "      <th>IM</th>\n",
              "      <th>GDP</th>\n",
              "    </tr>\n",
              "  </thead>\n",
              "  <tbody>\n",
              "    <tr>\n",
              "      <th>count</th>\n",
              "      <td>41.000000</td>\n",
              "      <td>41.000000</td>\n",
              "      <td>41.000000</td>\n",
              "      <td>41.000000</td>\n",
              "      <td>41.000000</td>\n",
              "      <td>41.000000</td>\n",
              "    </tr>\n",
              "    <tr>\n",
              "      <th>mean</th>\n",
              "      <td>201.565854</td>\n",
              "      <td>121.607317</td>\n",
              "      <td>47.078049</td>\n",
              "      <td>134.973171</td>\n",
              "      <td>128.604878</td>\n",
              "      <td>380.804878</td>\n",
              "    </tr>\n",
              "    <tr>\n",
              "      <th>std</th>\n",
              "      <td>212.451488</td>\n",
              "      <td>124.979143</td>\n",
              "      <td>55.139407</td>\n",
              "      <td>169.546612</td>\n",
              "      <td>160.519217</td>\n",
              "      <td>405.557305</td>\n",
              "    </tr>\n",
              "    <tr>\n",
              "      <th>min</th>\n",
              "      <td>2.100000</td>\n",
              "      <td>0.700000</td>\n",
              "      <td>0.300000</td>\n",
              "      <td>0.300000</td>\n",
              "      <td>0.600000</td>\n",
              "      <td>2.800000</td>\n",
              "    </tr>\n",
              "    <tr>\n",
              "      <th>25%</th>\n",
              "      <td>24.900000</td>\n",
              "      <td>13.100000</td>\n",
              "      <td>4.700000</td>\n",
              "      <td>11.300000</td>\n",
              "      <td>14.700000</td>\n",
              "      <td>39.400000</td>\n",
              "    </tr>\n",
              "    <tr>\n",
              "      <th>50%</th>\n",
              "      <td>100.700000</td>\n",
              "      <td>74.900000</td>\n",
              "      <td>22.000000</td>\n",
              "      <td>50.100000</td>\n",
              "      <td>51.700000</td>\n",
              "      <td>200.400000</td>\n",
              "    </tr>\n",
              "    <tr>\n",
              "      <th>75%</th>\n",
              "      <td>355.100000</td>\n",
              "      <td>206.900000</td>\n",
              "      <td>71.000000</td>\n",
              "      <td>221.200000</td>\n",
              "      <td>209.500000</td>\n",
              "      <td>647.300000</td>\n",
              "    </tr>\n",
              "    <tr>\n",
              "      <th>max</th>\n",
              "      <td>667.100000</td>\n",
              "      <td>399.800000</td>\n",
              "      <td>187.900000</td>\n",
              "      <td>623.000000</td>\n",
              "      <td>585.900000</td>\n",
              "      <td>1324.600000</td>\n",
              "    </tr>\n",
              "  </tbody>\n",
              "</table>\n",
              "</div>"
            ],
            "text/plain": [
              "                C           I           G          EX          IM          GDP\n",
              "count   41.000000   41.000000   41.000000   41.000000   41.000000    41.000000\n",
              "mean   201.565854  121.607317   47.078049  134.973171  128.604878   380.804878\n",
              "std    212.451488  124.979143   55.139407  169.546612  160.519217   405.557305\n",
              "min      2.100000    0.700000    0.300000    0.300000    0.600000     2.800000\n",
              "25%     24.900000   13.100000    4.700000   11.300000   14.700000    39.400000\n",
              "50%    100.700000   74.900000   22.000000   50.100000   51.700000   200.400000\n",
              "75%    355.100000  206.900000   71.000000  221.200000  209.500000   647.300000\n",
              "max    667.100000  399.800000  187.900000  623.000000  585.900000  1324.600000"
            ]
          },
          "metadata": {},
          "execution_count": 103
        }
      ]
    },
    {
      "cell_type": "code",
      "metadata": {
        "colab": {
          "base_uri": "https://localhost:8080/",
          "height": 303
        },
        "id": "p-jI5umKdda2",
        "outputId": "95c7fabc-c4e2-46a4-be7d-ede6081b45f2"
      },
      "source": [
        "train.plot()"
      ],
      "execution_count": null,
      "outputs": [
        {
          "output_type": "execute_result",
          "data": {
            "text/plain": [
              "<matplotlib.axes._subplots.AxesSubplot at 0x7ff6b2ae3850>"
            ]
          },
          "metadata": {},
          "execution_count": 104
        },
        {
          "output_type": "display_data",
          "data": {
            "image/png": "[encoded data removed]",
            "text/plain": [
              "<Figure size 432x288 with 1 Axes>"
            ]
          },
          "metadata": {}
        }
      ]
    },
    {
      "cell_type": "code",
      "metadata": {
        "colab": {
          "base_uri": "https://localhost:8080/",
          "height": 255
        },
        "id": "irK4nbdx6zko",
        "outputId": "0db37a61-4b3a-4429-ba22-dd695d0339f5"
      },
      "source": [
        "# 독립변수, 종속변수\n",
        "x_gdp = train.drop(['GDP'], axis=1)\n",
        "y_gdp = train[['GDP']]\n",
        "print(x_gdp.shape, y_gdp.shape)\n",
        "x_gdp.head()"
      ],
      "execution_count": null,
      "outputs": [
        {
          "output_type": "stream",
          "name": "stdout",
          "text": [
            "(41, 5) (41, 1)\n"
          ]
        },
        {
          "output_type": "execute_result",
          "data": {
            "text/html": [
              "<div>\n",
              "<style scoped>\n",
              "    .dataframe tbody tr th:only-of-type {\n",
              "        vertical-align: middle;\n",
              "    }\n",
              "\n",
              "    .dataframe tbody tr th {\n",
              "        vertical-align: top;\n",
              "    }\n",
              "\n",
              "    .dataframe thead th {\n",
              "        text-align: right;\n",
              "    }\n",
              "</style>\n",
              "<table border=\"1\" class=\"dataframe\">\n",
              "  <thead>\n",
              "    <tr style=\"text-align: right;\">\n",
              "      <th></th>\n",
              "      <th>C</th>\n",
              "      <th>I</th>\n",
              "      <th>G</th>\n",
              "      <th>EX</th>\n",
              "      <th>IM</th>\n",
              "    </tr>\n",
              "    <tr>\n",
              "      <th>year</th>\n",
              "      <th></th>\n",
              "      <th></th>\n",
              "      <th></th>\n",
              "      <th></th>\n",
              "      <th></th>\n",
              "    </tr>\n",
              "  </thead>\n",
              "  <tbody>\n",
              "    <tr>\n",
              "      <th>1970-01-01</th>\n",
              "      <td>2.1</td>\n",
              "      <td>0.7</td>\n",
              "      <td>0.3</td>\n",
              "      <td>0.3</td>\n",
              "      <td>0.6</td>\n",
              "    </tr>\n",
              "    <tr>\n",
              "      <th>1971-01-01</th>\n",
              "      <td>2.6</td>\n",
              "      <td>0.8</td>\n",
              "      <td>0.4</td>\n",
              "      <td>0.4</td>\n",
              "      <td>0.8</td>\n",
              "    </tr>\n",
              "    <tr>\n",
              "      <th>1972-01-01</th>\n",
              "      <td>3.1</td>\n",
              "      <td>0.9</td>\n",
              "      <td>0.4</td>\n",
              "      <td>0.7</td>\n",
              "      <td>0.9</td>\n",
              "    </tr>\n",
              "    <tr>\n",
              "      <th>1973-01-01</th>\n",
              "      <td>3.8</td>\n",
              "      <td>1.3</td>\n",
              "      <td>0.5</td>\n",
              "      <td>1.3</td>\n",
              "      <td>1.5</td>\n",
              "    </tr>\n",
              "    <tr>\n",
              "      <th>1974-01-01</th>\n",
              "      <td>5.4</td>\n",
              "      <td>2.2</td>\n",
              "      <td>0.8</td>\n",
              "      <td>1.8</td>\n",
              "      <td>2.6</td>\n",
              "    </tr>\n",
              "  </tbody>\n",
              "</table>\n",
              "</div>"
            ],
            "text/plain": [
              "              C    I    G   EX   IM\n",
              "year                               \n",
              "1970-01-01  2.1  0.7  0.3  0.3  0.6\n",
              "1971-01-01  2.6  0.8  0.4  0.4  0.8\n",
              "1972-01-01  3.1  0.9  0.4  0.7  0.9\n",
              "1973-01-01  3.8  1.3  0.5  1.3  1.5\n",
              "1974-01-01  5.4  2.2  0.8  1.8  2.6"
            ]
          },
          "metadata": {},
          "execution_count": 105
        }
      ]
    },
    {
      "cell_type": "code",
      "metadata": {
        "colab": {
          "base_uri": "https://localhost:8080/"
        },
        "id": "cZy7vCGZKwkq",
        "outputId": "29c332c9-5b9f-4d10-fcdc-d41a764e4223"
      },
      "source": [
        "# 모델 생성\n",
        "\n",
        "X = tf.keras.layers.Input(shape=[5])\n",
        "H = tf.keras.layers.Dense(10, activation='swish')(X)\n",
        "H = tf.keras.layers.Dense(10, activation='swish')(H)\n",
        "Y = tf.keras.layers.Dense(1)(H)\n",
        "model = tf.keras.Model(X, Y)\n",
        "model.compile(loss='mse')\n",
        "\n",
        "model.summary()"
      ],
      "execution_count": null,
      "outputs": [
        {
          "output_type": "stream",
          "name": "stdout",
          "text": [
            "Model: \"model_9\"\n",
            "_________________________________________________________________\n",
            " Layer (type)                Output Shape              Param #   \n",
            "=================================================================\n",
            " input_10 (InputLayer)       [(None, 5)]               0         \n",
            "                                                                 \n",
            " dense_29 (Dense)            (None, 10)                60        \n",
            "                                                                 \n",
            " dense_30 (Dense)            (None, 10)                110       \n",
            "                                                                 \n",
            " dense_31 (Dense)            (None, 1)                 11        \n",
            "                                                                 \n",
            "=================================================================\n",
            "Total params: 181\n",
            "Trainable params: 181\n",
            "Non-trainable params: 0\n",
            "_________________________________________________________________\n"
          ]
        }
      ]
    },
    {
      "cell_type": "code",
      "metadata": {
        "id": "6AFMDdYQv4AO"
      },
      "source": [
        "early = tf.keras.callbacks.EarlyStopping(\n",
        "    monitor='loss',\n",
        "    min_delta = 0, # 개선되고 있다고 판단하기 위한 최소 변화량\n",
        "    patience = 5, # 개선이 없는 상태를 얼마나 기다릴까?\n",
        "    restore_best_weights = True\n",
        ")"
      ],
      "execution_count": null,
      "outputs": []
    },
    {
      "cell_type": "code",
      "metadata": {
        "colab": {
          "base_uri": "https://localhost:8080/"
        },
        "id": "kKqajbl7PdO8",
        "outputId": "360581c1-3bac-49a5-e850-e815557cc4b4"
      },
      "source": [
        "# 모델에 데이터 학습\n",
        "model.fit(x_gdp, y_gdp, epochs=100, callbacks=[early])"
      ],
      "execution_count": null,
      "outputs": [
        {
          "output_type": "stream",
          "name": "stdout",
          "text": [
            "Epoch 1/100\n",
            "2/2 [==============================] - 0s 5ms/step - loss: 58.8659\n",
            "Epoch 2/100\n",
            "2/2 [==============================] - 0s 6ms/step - loss: 56.4709\n",
            "Epoch 3/100\n",
            "2/2 [==============================] - 0s 4ms/step - loss: 58.0873\n",
            "Epoch 4/100\n",
            "2/2 [==============================] - 0s 5ms/step - loss: 39.3379\n",
            "Epoch 5/100\n",
            "2/2 [==============================] - 0s 6ms/step - loss: 42.1444\n",
            "Epoch 6/100\n",
            "2/2 [==============================] - 0s 4ms/step - loss: 42.7514\n",
            "Epoch 7/100\n",
            "2/2 [==============================] - 0s 5ms/step - loss: 71.2084\n",
            "Epoch 8/100\n",
            "2/2 [==============================] - 0s 5ms/step - loss: 132.6994\n",
            "Epoch 9/100\n",
            "2/2 [==============================] - 0s 7ms/step - loss: 50.7770\n"
          ]
        },
        {
          "output_type": "execute_result",
          "data": {
            "text/plain": [
              "<keras.callbacks.History at 0x7ff6b1e35dd0>"
            ]
          },
          "metadata": {},
          "execution_count": 115
        }
      ]
    },
    {
      "cell_type": "code",
      "metadata": {
        "id": "MNpWtxGKPmAM"
      },
      "source": [
        "# 모델 비교 및 분석\n",
        "\n",
        "x_train, y_train = train[['C', 'I', 'G', 'EX', 'IM']], train[['GDP']]\n",
        "x_test, y_test = test[['C', 'I', 'G', 'EX', 'IM']], test[['GDP']]\n",
        "\n",
        "pred1 = model.predict(x_train)\n",
        "pred2 = model.predict(x_test)"
      ],
      "execution_count": null,
      "outputs": []
    },
    {
      "cell_type": "code",
      "metadata": {
        "colab": {
          "base_uri": "https://localhost:8080/",
          "height": 394
        },
        "id": "uz48acBBDI8i",
        "outputId": "5b87ef80-5c88-462d-e1e9-84de21243207"
      },
      "source": [
        "# df1 = pd.DataFrame({'train_pred': pred1.reshape(-1), 'train_real': y_train.values.reshape(-1)})\n",
        "df1 = pd.DataFrame({'train_pred': pred1.reshape(-1), 'train_real': y_train.iloc[:,0]})\n",
        "df1.head(10)"
      ],
      "execution_count": null,
      "outputs": [
        {
          "output_type": "execute_result",
          "data": {
            "text/html": [
              "<div>\n",
              "<style scoped>\n",
              "    .dataframe tbody tr th:only-of-type {\n",
              "        vertical-align: middle;\n",
              "    }\n",
              "\n",
              "    .dataframe tbody tr th {\n",
              "        vertical-align: top;\n",
              "    }\n",
              "\n",
              "    .dataframe thead th {\n",
              "        text-align: right;\n",
              "    }\n",
              "</style>\n",
              "<table border=\"1\" class=\"dataframe\">\n",
              "  <thead>\n",
              "    <tr style=\"text-align: right;\">\n",
              "      <th></th>\n",
              "      <th>train_pred</th>\n",
              "      <th>train_real</th>\n",
              "    </tr>\n",
              "    <tr>\n",
              "      <th>year</th>\n",
              "      <th></th>\n",
              "      <th></th>\n",
              "    </tr>\n",
              "  </thead>\n",
              "  <tbody>\n",
              "    <tr>\n",
              "      <th>1970-01-01</th>\n",
              "      <td>3.097824</td>\n",
              "      <td>2.8</td>\n",
              "    </tr>\n",
              "    <tr>\n",
              "      <th>1971-01-01</th>\n",
              "      <td>3.724944</td>\n",
              "      <td>3.5</td>\n",
              "    </tr>\n",
              "    <tr>\n",
              "      <th>1972-01-01</th>\n",
              "      <td>4.220759</td>\n",
              "      <td>4.3</td>\n",
              "    </tr>\n",
              "    <tr>\n",
              "      <th>1973-01-01</th>\n",
              "      <td>5.625181</td>\n",
              "      <td>5.5</td>\n",
              "    </tr>\n",
              "    <tr>\n",
              "      <th>1974-01-01</th>\n",
              "      <td>8.267343</td>\n",
              "      <td>7.9</td>\n",
              "    </tr>\n",
              "    <tr>\n",
              "      <th>1975-01-01</th>\n",
              "      <td>10.878606</td>\n",
              "      <td>10.5</td>\n",
              "    </tr>\n",
              "    <tr>\n",
              "      <th>1976-01-01</th>\n",
              "      <td>14.099165</td>\n",
              "      <td>14.4</td>\n",
              "    </tr>\n",
              "    <tr>\n",
              "      <th>1977-01-01</th>\n",
              "      <td>17.862001</td>\n",
              "      <td>18.6</td>\n",
              "    </tr>\n",
              "    <tr>\n",
              "      <th>1978-01-01</th>\n",
              "      <td>24.348410</td>\n",
              "      <td>25.2</td>\n",
              "    </tr>\n",
              "    <tr>\n",
              "      <th>1979-01-01</th>\n",
              "      <td>32.085888</td>\n",
              "      <td>32.3</td>\n",
              "    </tr>\n",
              "  </tbody>\n",
              "</table>\n",
              "</div>"
            ],
            "text/plain": [
              "            train_pred  train_real\n",
              "year                              \n",
              "1970-01-01    3.097824         2.8\n",
              "1971-01-01    3.724944         3.5\n",
              "1972-01-01    4.220759         4.3\n",
              "1973-01-01    5.625181         5.5\n",
              "1974-01-01    8.267343         7.9\n",
              "1975-01-01   10.878606        10.5\n",
              "1976-01-01   14.099165        14.4\n",
              "1977-01-01   17.862001        18.6\n",
              "1978-01-01   24.348410        25.2\n",
              "1979-01-01   32.085888        32.3"
            ]
          },
          "metadata": {},
          "execution_count": 118
        }
      ]
    },
    {
      "cell_type": "code",
      "metadata": {
        "colab": {
          "base_uri": "https://localhost:8080/",
          "height": 394
        },
        "id": "EkRdFRVJCJyg",
        "outputId": "d0f72a59-c6da-4eb6-e74c-6f99a49acd5a"
      },
      "source": [
        "df2 = pd.DataFrame({'test_pred': pred2.reshape(-1), 'test_real': y_test.iloc[:,0]})\n",
        "df2"
      ],
      "execution_count": null,
      "outputs": [
        {
          "output_type": "execute_result",
          "data": {
            "text/html": [
              "<div>\n",
              "<style scoped>\n",
              "    .dataframe tbody tr th:only-of-type {\n",
              "        vertical-align: middle;\n",
              "    }\n",
              "\n",
              "    .dataframe tbody tr th {\n",
              "        vertical-align: top;\n",
              "    }\n",
              "\n",
              "    .dataframe thead th {\n",
              "        text-align: right;\n",
              "    }\n",
              "</style>\n",
              "<table border=\"1\" class=\"dataframe\">\n",
              "  <thead>\n",
              "    <tr style=\"text-align: right;\">\n",
              "      <th></th>\n",
              "      <th>test_pred</th>\n",
              "      <th>test_real</th>\n",
              "    </tr>\n",
              "    <tr>\n",
              "      <th>year</th>\n",
              "      <th></th>\n",
              "      <th></th>\n",
              "    </tr>\n",
              "  </thead>\n",
              "  <tbody>\n",
              "    <tr>\n",
              "      <th>2011-01-01</th>\n",
              "      <td>1381.754395</td>\n",
              "      <td>1397.5</td>\n",
              "    </tr>\n",
              "    <tr>\n",
              "      <th>2012-01-01</th>\n",
              "      <td>1438.825439</td>\n",
              "      <td>1455.2</td>\n",
              "    </tr>\n",
              "    <tr>\n",
              "      <th>2013-01-01</th>\n",
              "      <td>1488.654419</td>\n",
              "      <td>1510.4</td>\n",
              "    </tr>\n",
              "    <tr>\n",
              "      <th>2014-01-01</th>\n",
              "      <td>1528.124878</td>\n",
              "      <td>1570.5</td>\n",
              "    </tr>\n",
              "    <tr>\n",
              "      <th>2015-01-01</th>\n",
              "      <td>1582.554077</td>\n",
              "      <td>1663.2</td>\n",
              "    </tr>\n",
              "    <tr>\n",
              "      <th>2016-01-01</th>\n",
              "      <td>1661.627930</td>\n",
              "      <td>1747.1</td>\n",
              "    </tr>\n",
              "    <tr>\n",
              "      <th>2017-01-01</th>\n",
              "      <td>1779.011108</td>\n",
              "      <td>1843.2</td>\n",
              "    </tr>\n",
              "    <tr>\n",
              "      <th>2018-01-01</th>\n",
              "      <td>1836.341675</td>\n",
              "      <td>1905.8</td>\n",
              "    </tr>\n",
              "    <tr>\n",
              "      <th>2019-01-01</th>\n",
              "      <td>1887.811523</td>\n",
              "      <td>1941.1</td>\n",
              "    </tr>\n",
              "    <tr>\n",
              "      <th>2020-01-01</th>\n",
              "      <td>1914.615601</td>\n",
              "      <td>1948.0</td>\n",
              "    </tr>\n",
              "  </tbody>\n",
              "</table>\n",
              "</div>"
            ],
            "text/plain": [
              "              test_pred  test_real\n",
              "year                              \n",
              "2011-01-01  1381.754395     1397.5\n",
              "2012-01-01  1438.825439     1455.2\n",
              "2013-01-01  1488.654419     1510.4\n",
              "2014-01-01  1528.124878     1570.5\n",
              "2015-01-01  1582.554077     1663.2\n",
              "2016-01-01  1661.627930     1747.1\n",
              "2017-01-01  1779.011108     1843.2\n",
              "2018-01-01  1836.341675     1905.8\n",
              "2019-01-01  1887.811523     1941.1\n",
              "2020-01-01  1914.615601     1948.0"
            ]
          },
          "metadata": {},
          "execution_count": 119
        }
      ]
    }
  ]
}